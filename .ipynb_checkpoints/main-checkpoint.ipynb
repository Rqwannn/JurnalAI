{
 "cells": [
  {
   "cell_type": "code",
   "execution_count": null,
   "id": "f1265621",
   "metadata": {},
   "outputs": [],
   "source": [
    "!pip install pdf2image"
   ]
  },
  {
   "cell_type": "code",
   "execution_count": null,
   "id": "574bd87b",
   "metadata": {},
   "outputs": [],
   "source": [
    "!conda install -c conda-forge poppler"
   ]
  },
  {
   "cell_type": "code",
   "execution_count": null,
   "id": "1af93673",
   "metadata": {},
   "outputs": [],
   "source": [
    "import numpy as np\n",
    "import json\n",
    "import glob\n",
    "\n",
    "# Extract image\n",
    "import pytesseract\n",
    "import cv2\n",
    "from PIL import Image\n",
    "\n",
    "# Gensim\n",
    "import gensim\n",
    "import gensim.corpora as corpora\n",
    "from gensim.utils import simple_preprocess\n",
    "from gensim.models import CoherenceModel\n",
    "\n",
    "# spacy\n",
    "import spacy\n",
    "from nltk.corpus import stopwords\n",
    "\n",
    "# lda visual\n",
    "import pyLDAvis\n",
    "import pyLDAvis.gensim\n",
    "\n",
    "# PDF \n",
    "from pdf2image import convert_from_path\n",
    "\n",
    "import warnings\n",
    "warnings.filterwarnings(\"ignore\", category=DeprecationWarning)"
   ]
  },
  {
   "cell_type": "markdown",
   "id": "8ae8ba22",
   "metadata": {},
   "source": [
    "# Step 1, OCR\n",
    "## Extrak Text From PDF File"
   ]
  },
  {
   "cell_type": "code",
   "execution_count": null,
   "id": "2c5298d4",
   "metadata": {},
   "outputs": [],
   "source": [
    "# Path ke file PDF\n",
    "pdf_file = \"assets/jurnal.pdf\"\n",
    "index = 0\n",
    "result = []\n",
    "\n",
    "# Fungsi untuk mengekstrak teks dari file PDF dan menampilkan contour\n",
    "def extract_text_and_show_contours(pdf_path):\n",
    "    # Ubah file PDF menjadi gambar (gambar per halaman)\n",
    "    images = []\n",
    "    \n",
    "    try:\n",
    "        images = convert_pdf_to_images(pdf_path)\n",
    "    except Exception as e:\n",
    "        print(f\"Error: {e}\")\n",
    "\n",
    "    # Loop melalui setiap gambar (halaman) dan ekstrak teks serta tampilkan contour\n",
    "    for i, image in enumerate(images):\n",
    "        text = show_text_contours(image)\n",
    "        print(f\"Hasil ekstraksi teks dari halaman {i + 1}:\\n{text}\\n\")\n",
    "#         show_text_contours(image)\n",
    "\n",
    "# Fungsi untuk mengubah file PDF menjadi daftar gambar\n",
    "def convert_pdf_to_images(pdf_path):\n",
    "    images = []\n",
    "\n",
    "    # Fungsi untuk mengonversi PDF menjadi gambar\n",
    "    pdf_images = convert_from_path(pdf_path)\n",
    "\n",
    "    # Simpan setiap gambar sebagai file gambar terpisah\n",
    "    for i, image in enumerate(pdf_images):\n",
    "        images.append(f\"convert_to_img/page_{i + 1}.png\")\n",
    "        image.save(f'convert_to_img/page_{i + 1}.png', 'PNG')\n",
    "                \n",
    "    return images\n",
    "\n",
    "# Fungsi untuk mengekstrak teks dari gambar menggunakan pytesseract\n",
    "def extract_text_from_image(image):\n",
    "\n",
    "    ocr_result = pytesseract.image_to_string(image)\n",
    "    ocr_result = ocr_result.split(\"\\n\")\n",
    "\n",
    "    for line in ocr_result:\n",
    "\n",
    "        result.append(line)\n",
    "                \n",
    "    return ocr_result\n",
    "\n",
    "# Fungsi untuk menampilkan contour dari gambar\n",
    "def show_text_contours(image):\n",
    "    image = cv2.imread(image)\n",
    "    gray = cv2.cvtColor(image, cv2.COLOR_BGR2GRAY)\n",
    "    blur = cv2.GaussianBlur(gray, (7,7), 0)\n",
    "    thresh = cv2.threshold(blur, 0, 255, cv2.THRESH_BINARY_INV + cv2.THRESH_OTSU)[1]\n",
    "    kernal = cv2.getStructuringElement(cv2.MORPH_RECT, (3, 13))\n",
    "    dilate = cv2.dilate(thresh, kernal, iterations=1)\n",
    "    \n",
    "    cnts = cv2.findContours(dilate, cv2.RETR_EXTERNAL, cv2.CHAIN_APPROX_SIMPLE)\n",
    "    cnts = cnts[0] if len(cnts) == 2 else cents[1]\n",
    "    cnts = sorted(cnts, key=lambda x: cv2.boundingRect(x)[0])\n",
    "    \n",
    "    for c in cnts:\n",
    "        x, y, w, h = cv2.boundingRect(c)\n",
    "\n",
    "        # if statement berikut untuk mengambil bagian isi dari image, jika tidak maka semua kata akan di contours\n",
    "\n",
    "        if h > 200 and w > 20:\n",
    "            roi = image[y:y+h, x:x+h]\n",
    "            cv2.imwrite(f\"temp/jurnal_countor_{index}.png\", roi)\n",
    "            cv2.rectangle(image, (x, y), (x+w, y+h), (36, 255, 12), 2)\n",
    "            \n",
    "            extract_text_from_image(roi)\n",
    "                \n",
    "            index += 1\n"
   ]
  },
  {
   "cell_type": "code",
   "execution_count": null,
   "id": "bcd9a66d",
   "metadata": {},
   "outputs": [],
   "source": [
    "extract_text_and_show_contours(pdf_file)"
   ]
  },
  {
   "cell_type": "code",
   "execution_count": null,
   "id": "5f5769d9",
   "metadata": {},
   "outputs": [],
   "source": [
    "result"
   ]
  },
  {
   "cell_type": "code",
   "execution_count": null,
   "id": "8328163f",
   "metadata": {},
   "outputs": [],
   "source": []
  }
 ],
 "metadata": {
  "kernelspec": {
   "display_name": "ML",
   "language": "python",
   "name": "ml"
  },
  "language_info": {
   "codemirror_mode": {
    "name": "ipython",
    "version": 3
   },
   "file_extension": ".py",
   "mimetype": "text/x-python",
   "name": "python",
   "nbconvert_exporter": "python",
   "pygments_lexer": "ipython3",
   "version": "3.10.9"
  }
 },
 "nbformat": 4,
 "nbformat_minor": 5
}
